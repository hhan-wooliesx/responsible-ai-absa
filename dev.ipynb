{
 "cells": [
  {
   "cell_type": "code",
   "execution_count": 19,
   "metadata": {},
   "outputs": [],
   "source": [
    "import os, sys\n",
    "import pandas as pd\n",
    "import numpy as np\n",
    "import json\n",
    "from tqdm import tqdm\n",
    "from typing import Tuple, List, Union, Optional\n",
    "from enum import Enum, IntEnum\n",
    "\n",
    "from langchain_google_vertexai import VertexAI\n",
    "from langchain_core.pydantic_v1 import BaseModel, Field\n",
    "from langchain.output_parsers import PydanticOutputParser\n",
    "from langchain.prompts import PromptTemplate"
   ]
  },
  {
   "cell_type": "code",
   "execution_count": 2,
   "metadata": {},
   "outputs": [],
   "source": [
    "def evaluate_sentiments(trues, preds):\n",
    "\n",
    "    if len(preds.shape) == 3: \n",
    "        preds_argmax = preds.argmax(axis=-1)\n",
    "    elif len(preds.shape) == 2:\n",
    "        preds_argmax = preds\n",
    "    else:\n",
    "        raise Exception('The shape of `preds` needs to be either 2 dimensions or 3 dimensions.')\n",
    "    matches = trues == preds_argmax\n",
    "    return matches\n",
    "\n",
    "class SentimentEnum(str, Enum):\n",
    "    positive = 'positive'\n",
    "    neutral = 'neutral'\n",
    "    negative = 'negative'\n",
    "\n",
    "class SentimentExtraction(BaseModel):\n",
    "    reason: str = Field(\n",
    "        description=\"A string field for step by step reasoning before arriving at the final answer\"\n",
    "    )\n",
    "    sentiment: SentimentEnum = Field(\n",
    "        description=\"An enumerated field for sentiment\"\n",
    "    )"
   ]
  },
  {
   "cell_type": "code",
   "execution_count": 12,
   "metadata": {},
   "outputs": [],
   "source": [
    "MODEL_TO_USE = 'gemini-1.5-flash-001'\n",
    "\n",
    "PREAMBLE = (\n",
    "    \"Woolworths is one of the largest supermarket chains in Australia and New Zealand. \"\n",
    "    \"Woolworths primarily sells common household grocery-related products ranging from fruit, vegetables, meat, dairy products, condiments, pet food and more.\\n\" \n",
    "    \"Woolworths has a loyalty (or rewards) program that gives its members extra benefits including targeted personalised offers. \"\n",
    "    \"Customers need to sign up to join the program, at which point they'll be given a rewards card. \"\n",
    "    \"In order to enjoy more benefits from this program, members need to continue to scan their rewards / loyalty cards when making purchases. \"\n",
    "    \"Typical scan of rewards card would register transaction details such as the item purchased, purchase date time and purchase price against their unique personal identifier. \"\n",
    "    \"Customer would also get 1 reward point for each dollar they spend in the transactions that are scanned. \"\n",
    "    \"The main value proposition comes in the form of points where every 2000 points is equivalent to $10 off the customer's next shop. \"\n",
    "    \"From time to time, members can also enjoy other benefits such as more points for redeeming targeted offers on a certain range of products and free samples of products.\"\n",
    ")\n",
    "\n",
    "INSTRUCTION = \"\"\"\\\n",
    "You have expertise in the domain of Responsible AI and how best practices should be adopted in large businesses. \\\n",
    "Below is Responsible AI-related aspects or area that Woolworths can look into to address for its loyalty program with respect to the customer comments. \\\n",
    "\n",
    "### Aspect\n",
    "{aspect}\n",
    "\n",
    "Now for the customer comment below, please give the polarity of the customer's sentiment as either positive, negative or neutral against each of the aspects above \\\n",
    "Neutral can either mean the customer's comment on the aspect is neither positive nor negative or the customer's comment does not mention anything about the aspect. \\\n",
    "Think step-by-step through the reasoning before arriving at an answer. You must output in JSON format like the example below: \n",
    "{{\n",
    "    \"reason\": \"The customer does not mention anything about that aspect.\"\n",
    "    \"sentiment\": \"neutral\"\n",
    "}}\n",
    "\n",
    "\n",
    "### Customer Comment\n",
    "{customer_comment}\n",
    "\"\"\""
   ]
  },
  {
   "cell_type": "code",
   "execution_count": 15,
   "metadata": {},
   "outputs": [],
   "source": [
    "classes = ['positive', 'neutral', 'negative']\n",
    "classes_map = {c: i for i, c in enumerate(classes)}\n",
    "n_classes = len(classes)"
   ]
  },
  {
   "cell_type": "code",
   "execution_count": 13,
   "metadata": {},
   "outputs": [],
   "source": [
    "llm = VertexAI(\n",
    "    model=MODEL_TO_USE,\n",
    "    temperature=0.05,\n",
    "    top_p=0.95,\n",
    "    top_k=40,\n",
    "    max_tokens=2**13,\n",
    "    max_retries=1,\n",
    "    stop=None,\n",
    ")"
   ]
  },
  {
   "cell_type": "code",
   "execution_count": 16,
   "metadata": {},
   "outputs": [],
   "source": [
    "minimal_test_set = pd.read_csv('input/minimal-test-set.csv')\n",
    "raw_classes = minimal_test_set[['Transparency', 'Privacy', 'Bias']].values\n",
    "\n",
    "test_inputs = minimal_test_set['Input'].values\n",
    "test_labels = np.vectorize(classes_map.get)(raw_classes)"
   ]
  },
  {
   "cell_type": "code",
   "execution_count": 23,
   "metadata": {},
   "outputs": [],
   "source": [
    "aspects = {\n",
    "    \"Fairness and Bias\" : \\\n",
    "        \"Fairness and Bias: How customers think about the fairness of offers they receive and whether they think there are unjust biases in the targetting of offers.\",\n",
    "    \"Transparency and Explainability\" : \\\n",
    "        \"Transparency and Explainability: How customers perceive the process of being targeting, boosting and re deeming offers for whether the entire personalisation process is clear and easily understandable.\",\n",
    "    \"Data Privacy and Security\" : \\\n",
    "        \"Data Privacy and Security: How customers think about the handling of their personal data with the program as well as data breach and fraud concerns.\"\n",
    "}"
   ]
  },
  {
   "cell_type": "code",
   "execution_count": 9,
   "metadata": {},
   "outputs": [],
   "source": [
    "# ASPECTS = \"\"\"\\\n",
    "# * Fairness and Bias: How customers think about the fairness of offers they receive and whether they think there are unjust biases in the targetting of offers.\n",
    "# * Transparency and Explainability: How customers perceive the process of being targeting, boosting and re deeming offers for whether the entire personalisation process is clear and easily understandable.\n",
    "# * Data Privacy and Security: How customers think about the handling of their personal data with the program as well as data breach and fraud concerns.\n",
    "# \"\"\"\n",
    "\n",
    "COMMENT = test_inputs[0]"
   ]
  },
  {
   "cell_type": "code",
   "execution_count": 33,
   "metadata": {},
   "outputs": [],
   "source": [
    "output_fix_tmpl = PromptTemplate(\n",
    "    input_variables=['completion', 'error', 'instructions'], \n",
    "    template=(\n",
    "        'Instructions:\\n--------------\\n{instructions}\\n--------------\\n'\n",
    "        'Completion:\\n--------------\\n{completion}\\n--------------\\n'\n",
    "        '\\nAbove, the Completion did not satisfy the constraints given in the Instructions.'\n",
    "        '\\nError:\\n--------------\\n{error}\\n--------------\\n\\n'\n",
    "        'Please try again. Please only respond with an answer that satisfies the constraints laid out in the Instructions:'\n",
    "        )\n",
    ")\n",
    "outputfix_chain = output_fix_tmpl | llm"
   ]
  },
  {
   "cell_type": "code",
   "execution_count": 28,
   "metadata": {},
   "outputs": [],
   "source": [
    "prompt_template = PREAMBLE + INSTRUCTION\n",
    "parser = PydanticOutputParser(pydantic_object=SentimentExtraction)\n",
    "prompt = PromptTemplate.from_template(\n",
    "    prompt_template,\n",
    ")\n",
    "\n",
    "chain = prompt | llm # | parser"
   ]
  },
  {
   "cell_type": "code",
   "execution_count": null,
   "metadata": {},
   "outputs": [],
   "source": [
    "result = chain.invoke({})"
   ]
  },
  {
   "cell_type": "code",
   "execution_count": null,
   "metadata": {},
   "outputs": [],
   "source": [
    "try:\n",
    "    result = parser.parse(result)\n",
    "except Exception as err_msg:\n",
    "    outputfix_result = outputfix_chain.invoke(\n",
    "        {\n",
    "            'instructions': parser.get_format_instructions(),\n",
    "            'completion': result,\n",
    "            'error' : err_msg\n",
    "        }\n",
    "    )\n",
    "    result = parser.parse(outputfix_result)"
   ]
  },
  {
   "cell_type": "code",
   "execution_count": 31,
   "metadata": {},
   "outputs": [],
   "source": [
    "def chain_w_outputfix_parser(input:dict, prompt_tmpl:PromptTemplate, parser, llm, output_fix_tmpl:PromptTemplate):\n",
    "\n",
    "    outputfix_chain = output_fix_tmpl | llm\n",
    "    chain = prompt_tmpl | llm \n",
    "    result = chain.invoke(input)\n",
    "    try: # try without outputfix parser\n",
    "        result = parser.parse(result)\n",
    "    except Exception as err_msg: # using outputfix parser\n",
    "        outputfix_result = outputfix_chain.invoke(\n",
    "            {\n",
    "                'instructions': parser.get_format_instructions(),\n",
    "                'completion': result,\n",
    "                'error' : err_msg\n",
    "            }\n",
    "        )\n",
    "        result = parser.parse(outputfix_result)\n",
    "    return result"
   ]
  },
  {
   "cell_type": "code",
   "execution_count": 25,
   "metadata": {},
   "outputs": [
    {
     "data": {
      "text/plain": [
       "array(['a simple straightforward rewards program with clever personalised customer marketing.',\n",
       "       'automatic boost really frustrates me when i forget to boost prior to shopping on time to be rewardsed',\n",
       "       'since the paid rewardss started there is no bulk rewardss for ordinary members and it’s showing rewardss for individual items rather a whole money like it used to be.',\n",
       "       \"it's unfair that as a single person i can't get the bonus points for spending $100 plus a week as i don't need that much. it's geared towards families. plus as a single person it takes me ages to get enough point for a measly $10 discount. also the fuel vouchers should last longer, say 12 months. better rewardss for single people and needing less points for discounts if single. \",\n",
       "       'security control is an issue. i found out an ex partner was able to call in & fraudulently change details (address etc) on my account & use rewardss. this was a breach of my privacy & completely inappropriate. woolworths rewardss were very blaze in dealing with it or investigation further.',\n",
       "       \"lot of data and invasion of privacy for little rewards stop pressuring me to get the app! i don't want to bloat my phone with apps i don't need. stop pressuring me to get the app! i don't want to bloat my phone with apps i don't need. some rewards at least. anything to combat the rising cost of living lot of data and invasion of privacy for little rewards. can't work out how to track how many free coffees i have\",\n",
       "       'the points go up to slowly and 2000 points is $10, so for every dollar i spend that rewardss me .50 of a cent off? that is .50% which is minimal. more points for every dollar i spend! how many millions are you making especially during the pandemic, i have not worked since june 14 and your always open.',\n",
       "       'it seems like it is just the norm now. that there aren’t any real rewardss. if you spend more you’re expected to spend more to get the rewardss whereas people who don’t shop at woolworths regularly have to spend lower amounts to get rewardsed. you get rewardsed if you leave woolworths and then come back which a lot of people actually do to get the rewardss.',\n",
       "       'automatic $10 rewards. easy for scammers to use. i prefer if you can choose a pin to use to redeem $10.',\n",
       "       'need to manually boost rewardss. why not make it auto rewardss for everyone.'],\n",
       "      dtype=object)"
      ]
     },
     "execution_count": 25,
     "metadata": {},
     "output_type": "execute_result"
    }
   ],
   "source": [
    "test_inputs"
   ]
  },
  {
   "cell_type": "code",
   "execution_count": 48,
   "metadata": {},
   "outputs": [
    {
     "name": "stdout",
     "output_type": "stream",
     "text": [
      "ASPECT ====> Fairness and Bias\n"
     ]
    },
    {
     "name": "stderr",
     "output_type": "stream",
     "text": [
      "100%|██████████| 10/10 [00:04<00:00,  2.01it/s]\n"
     ]
    },
    {
     "name": "stdout",
     "output_type": "stream",
     "text": [
      "ASPECT ====> Transparency and Explainability\n"
     ]
    },
    {
     "name": "stderr",
     "output_type": "stream",
     "text": [
      "100%|██████████| 10/10 [00:05<00:00,  1.68it/s]\n"
     ]
    },
    {
     "name": "stdout",
     "output_type": "stream",
     "text": [
      "ASPECT ====> Data Privacy and Security\n"
     ]
    },
    {
     "name": "stderr",
     "output_type": "stream",
     "text": [
      "100%|██████████| 10/10 [00:07<00:00,  1.38it/s]\n"
     ]
    }
   ],
   "source": [
    "results = {}\n",
    "for aspect_key, aspect_value in aspects.items():\n",
    "    print(f'ASPECT ====> {aspect_key}')\n",
    "    aspect_sentiments = []\n",
    "    for comment in tqdm(test_inputs):\n",
    "        # result = chain.invoke({'aspect': aspect_value, 'customer_comment': comment})\n",
    "        result = chain_w_outputfix_parser({'aspect': aspect_value, 'customer_comment': comment}, prompt, parser, llm, output_fix_tmpl)\n",
    "        result_dict = {}\n",
    "        result_dict['reason'] = result.reason\n",
    "        result_dict['sentiment'] = result.sentiment.name\n",
    "        aspect_sentiments.append(result_dict)\n",
    "    results[aspect_key] = aspect_sentiments"
   ]
  },
  {
   "cell_type": "code",
   "execution_count": 50,
   "metadata": {},
   "outputs": [
    {
     "data": {
      "text/plain": [
       "array([[0, 1, 1],\n",
       "       [2, 1, 1],\n",
       "       [1, 1, 2],\n",
       "       [1, 1, 2],\n",
       "       [1, 2, 1],\n",
       "       [2, 2, 1],\n",
       "       [0, 1, 1],\n",
       "       [1, 1, 2],\n",
       "       [1, 2, 1],\n",
       "       [1, 1, 1]])"
      ]
     },
     "execution_count": 50,
     "metadata": {},
     "output_type": "execute_result"
    }
   ],
   "source": [
    "test_labels"
   ]
  },
  {
   "cell_type": "code",
   "execution_count": 49,
   "metadata": {},
   "outputs": [
    {
     "data": {
      "text/plain": [
       "{'Fairness and Bias': [{'reason': 'The customer comment focuses on the simplicity and personalization of the program, without mentioning fairness or bias in the offers.',\n",
       "   'sentiment': 'neutral'},\n",
       "  {'reason': 'The customer is expressing frustration about not being rewarded for forgetting to boost their rewards card before shopping. This suggests they feel the system is unfair, as they are not being rewarded for their usual spending.',\n",
       "   'sentiment': 'negative'},\n",
       "  {'reason': 'The customer is complaining about the change in rewards structure, specifically the lack of bulk rewards for ordinary members. This suggests they feel the new system is unfair, as it benefits individual items rather than overall spending.',\n",
       "   'sentiment': 'negative'},\n",
       "  {'reason': 'The customer explicitly states that they feel the program is unfair because it is geared towards families and not single people. They also mention that it takes them a long time to earn enough points for a discount, implying that the program is not fair to them as a single person.',\n",
       "   'sentiment': 'negative'},\n",
       "  {'reason': \"The customer's comment focuses on security and privacy breaches, not on the fairness or bias of offers.\",\n",
       "   'sentiment': 'neutral'},\n",
       "  {'reason': 'The customer expresses concern about the amount of data collected and potential invasion of privacy, which relates to fairness and bias in how offers are targeted. They feel the rewards are not worth the data trade-off.',\n",
       "   'sentiment': 'negative'},\n",
       "  {'reason': \"The customer is complaining about the slow accumulation of points and the low value of the reward, which can be interpreted as a perception of unfairness in the program's design.\",\n",
       "   'sentiment': 'negative'},\n",
       "  {'reason': 'The customer explicitly states that they feel the rewards program is unfair, as those who spend more are expected to spend more to get rewards, while those who shop less frequently get rewarded for spending less. This suggests a perceived bias in the program.',\n",
       "   'sentiment': 'negative'},\n",
       "  {'reason': 'The customer is concerned about the security of the rewards program, suggesting that the automatic $10 reward system could be vulnerable to scams. This concern is related to fairness and bias as it implies a potential for unfair advantage or exploitation of the system.',\n",
       "   'sentiment': 'negative'},\n",
       "  {'reason': 'The customer is expressing a desire for automatic rewards, implying a belief that the current system is unfair and biased towards those who manually scan their cards. They believe everyone should receive rewards automatically, suggesting a lack of fairness in the current system.',\n",
       "   'sentiment': 'negative'}],\n",
       " 'Transparency and Explainability': [{'reason': \"The customer explicitly mentions 'personalised customer marketing', indicating understanding and appreciation for the personalization aspect of the program.\",\n",
       "   'sentiment': 'positive'},\n",
       "  {'reason': \"The customer expresses frustration with the 'automatic boost' feature, implying a lack of clarity or control over the process. This suggests the customer finds the personalization process unclear and potentially unfair.\",\n",
       "   'sentiment': 'negative'},\n",
       "  {'reason': \"The customer is complaining about the change in rewards structure, specifically mentioning the lack of 'bulk rewards' and the shift to individual item rewards. This implies a lack of transparency in how rewards are calculated and awarded, making it difficult for customers to understand the new system.\",\n",
       "   'sentiment': 'negative'},\n",
       "  {'reason': 'The customer does not mention anything about the clarity or understandability of the personalization process.',\n",
       "   'sentiment': 'neutral'},\n",
       "  {'reason': \"The customer's comment focuses on security and privacy issues related to account changes, not on the transparency and explainability of the personalization process.\",\n",
       "   'sentiment': 'neutral'},\n",
       "  {'reason': \"The customer expresses concern about data collection and privacy, implying a lack of transparency in how their data is used. They also mention difficulty in tracking rewards, suggesting a lack of clarity in the program's mechanics.\",\n",
       "   'sentiment': 'negative'},\n",
       "  {'reason': 'The customer does not mention anything about the clarity or understandability of the personalization process.',\n",
       "   'sentiment': 'neutral'},\n",
       "  {'reason': 'The customer is complaining about the lack of real rewards and the unfairness of the system, implying that the rewards program is not transparent and understandable. They feel that the program is designed to benefit frequent shoppers at the expense of occasional shoppers.',\n",
       "   'sentiment': 'negative'},\n",
       "  {'reason': 'The customer is concerned about the security of the rewards system, suggesting that the automatic $10 reward system is vulnerable to scammers. This implies a lack of transparency and explainability in how the rewards are redeemed, as the customer desires a PIN-based system for better control and security.',\n",
       "   'sentiment': 'negative'},\n",
       "  {'reason': 'The customer is complaining about the need to manually boost rewards, suggesting they find the process unclear and inconvenient. This implies a lack of transparency and explainability in how rewards are earned.',\n",
       "   'sentiment': 'negative'}],\n",
       " 'Data Privacy and Security': [{'reason': 'The customer does not mention anything about data privacy or security.',\n",
       "   'sentiment': 'neutral'},\n",
       "  {'reason': 'The customer does not mention anything about data privacy or security.',\n",
       "   'sentiment': 'neutral'},\n",
       "  {'reason': 'The customer does not mention anything about data privacy or security.',\n",
       "   'sentiment': 'neutral'},\n",
       "  {'reason': 'The customer does not mention anything about data privacy or security.',\n",
       "   'sentiment': 'neutral'},\n",
       "  {'reason': \"The customer explicitly mentions concerns about data security and privacy due to their ex-partner being able to change their account details and use their rewards. They also express dissatisfaction with Woolworths' response to the situation.\",\n",
       "   'sentiment': 'negative'},\n",
       "  {'reason': 'The customer expresses concern about the amount of data collected and potential invasion of privacy. They feel the rewards are not worth the data trade-off.',\n",
       "   'sentiment': 'negative'},\n",
       "  {'reason': 'The customer does not mention anything about data privacy or security.',\n",
       "   'sentiment': 'neutral'},\n",
       "  {'reason': 'The customer does not mention anything about data privacy or security.',\n",
       "   'sentiment': 'neutral'},\n",
       "  {'reason': 'The customer expresses concern about the potential for fraud with the automatic $10 reward system, suggesting a lack of security measures.',\n",
       "   'sentiment': 'negative'},\n",
       "  {'reason': 'The customer does not mention anything about data privacy or security.',\n",
       "   'sentiment': 'neutral'}]}"
      ]
     },
     "execution_count": 49,
     "metadata": {},
     "output_type": "execute_result"
    }
   ],
   "source": [
    "results"
   ]
  },
  {
   "cell_type": "code",
   "execution_count": 18,
   "metadata": {},
   "outputs": [],
   "source": [
    "trues = np.array([\n",
    "    [0, 1, 2],\n",
    "    [1, 0, 0],\n",
    "    [0, 2, 1],\n",
    "])\n",
    "\n",
    "preds = np.array([\n",
    "    [[0.1, 0.2, 0.7], [0.1, 0.2, 0.7], [0.1, 0.2, 0.7]],\n",
    "    [[0.1, 0.2, 0.7], [0.1, 0.2, 0.7], [0.1, 0.2, 0.7]],\n",
    "    [[0.1, 0.2, 0.7], [0.1, 0.2, 0.7], [0.1, 0.2, 0.7]],\n",
    "])\n",
    "\n",
    "assert trues.max() == n_classes - 1 # TODO: cases where subsets of data doesn't contain all the labels\n",
    "assert preds.shape[-1] == n_classes"
   ]
  },
  {
   "cell_type": "code",
   "execution_count": 14,
   "metadata": {},
   "outputs": [],
   "source": [
    "preds_argmax = preds.argmax(axis=-1)\n",
    "matches = trues == preds_argmax"
   ]
  },
  {
   "cell_type": "code",
   "execution_count": 20,
   "metadata": {},
   "outputs": [],
   "source": []
  },
  {
   "cell_type": "code",
   "execution_count": 21,
   "metadata": {},
   "outputs": [],
   "source": [
    "matches = evaluate_sentiments(trues, preds)"
   ]
  },
  {
   "cell_type": "code",
   "execution_count": 32,
   "metadata": {},
   "outputs": [],
   "source": [
    "accuracy = matches.sum() / matches.size"
   ]
  },
  {
   "cell_type": "code",
   "execution_count": null,
   "metadata": {},
   "outputs": [],
   "source": []
  }
 ],
 "metadata": {
  "kernelspec": {
   "display_name": "genai-rd-w360-lease",
   "language": "python",
   "name": "python3"
  },
  "language_info": {
   "codemirror_mode": {
    "name": "ipython",
    "version": 3
   },
   "file_extension": ".py",
   "mimetype": "text/x-python",
   "name": "python",
   "nbconvert_exporter": "python",
   "pygments_lexer": "ipython3",
   "version": "3.12.5"
  }
 },
 "nbformat": 4,
 "nbformat_minor": 2
}
