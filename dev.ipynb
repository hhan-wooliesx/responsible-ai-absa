{
 "cells": [
  {
   "cell_type": "code",
   "execution_count": 2,
   "metadata": {},
   "outputs": [],
   "source": [
    "import os, sys\n",
    "import pandas as pd\n",
    "import numpy as np\n",
    "import json\n",
    "from tqdm import tqdm\n",
    "from typing import Tuple, List, Union, Optional\n",
    "from enum import Enum, IntEnum\n",
    "\n",
    "from langchain_google_vertexai import VertexAI\n",
    "from langchain_core.pydantic_v1 import BaseModel, Field\n",
    "from langchain.output_parsers import PydanticOutputParser\n",
    "from langchain.prompts import PromptTemplate"
   ]
  },
  {
   "cell_type": "code",
   "execution_count": 3,
   "metadata": {},
   "outputs": [],
   "source": [
    "def evaluate_sentiments(trues, preds):\n",
    "\n",
    "    if len(preds.shape) == 3: \n",
    "        preds_argmax = preds.argmax(axis=-1)\n",
    "    elif len(preds.shape) == 2:\n",
    "        preds_argmax = preds\n",
    "    else:\n",
    "        raise Exception('The shape of `preds` needs to be either 2 dimensions or 3 dimensions.')\n",
    "    matches = trues == preds_argmax\n",
    "    return matches\n",
    "\n",
    "class SentimentEnum(str, Enum):\n",
    "    positive = 'positive'\n",
    "    neutral = 'neutral'\n",
    "    negative = 'negative'\n",
    "\n",
    "class SentimentExtraction(BaseModel):\n",
    "    reason: str = Field(\n",
    "        description=\"A string field for step by step reasoning before arriving at the final answer\"\n",
    "    )\n",
    "    sentiment: SentimentEnum = Field(\n",
    "        description=\"An enumerated field for sentiment\"\n",
    "    )"
   ]
  },
  {
   "cell_type": "code",
   "execution_count": 4,
   "metadata": {},
   "outputs": [],
   "source": [
    "MODEL_TO_USE = 'gemini-1.5-flash-001'\n",
    "\n",
    "PREAMBLE = (\n",
    "    \"Woolworths is one of the largest supermarket chains in Australia and New Zealand. \"\n",
    "    \"Woolworths primarily sells common household grocery-related products ranging from fruit, vegetables, meat, dairy products, condiments, pet food and more.\\n\" \n",
    "    \"Woolworths has a loyalty (or rewards) program that gives its members extra benefits including targeted personalised offers. \"\n",
    "    \"Customers need to sign up to join the program, at which point they'll be given a rewards card. \"\n",
    "    \"In order to enjoy more benefits from this program, members need to continue to scan their rewards / loyalty cards when making purchases. \"\n",
    "    \"Typical scan of rewards card would register transaction details such as the item purchased, purchase date time and purchase price against their unique personal identifier. \"\n",
    "    \"Customer would also get 1 reward point for each dollar they spend in the transactions that are scanned. \"\n",
    "    \"The main value proposition comes in the form of points where every 2000 points is equivalent to $10 off the customer's next shop. \"\n",
    "    \"From time to time, members can also enjoy other benefits such as more points for redeeming targeted offers on a certain range of products and free samples of products.\"\n",
    ")\n",
    "\n",
    "INSTRUCTION = \"\"\"\\\n",
    "You have expertise in the domain of Responsible AI and how best practices should be adopted in large businesses. \\\n",
    "Below is Responsible AI-related aspects or area that Woolworths can look into to address for its loyalty program with respect to the customer comments. \\\n",
    "\n",
    "### Aspect\n",
    "{aspect}\n",
    "\n",
    "Now for the customer comment below, please give the polarity of the customer's sentiment as either positive, negative or neutral against each of the aspects above \\\n",
    "Neutral can either mean the customer's comment on the aspect is neither positive nor negative or the customer's comment does not mention anything about the aspect. \\\n",
    "Think step-by-step through the reasoning before arriving at an answer. You must output in JSON format like the example below: \n",
    "{{\n",
    "    \"reason\": \"The customer does not mention anything about that aspect.\"\n",
    "    \"sentiment\": \"neutral\"\n",
    "}}\n",
    "\n",
    "\n",
    "### Customer Comment\n",
    "{customer_comment}\n",
    "\"\"\""
   ]
  },
  {
   "cell_type": "code",
   "execution_count": 10,
   "metadata": {},
   "outputs": [],
   "source": [
    "classes = ['positive', 'neutral', 'negative']\n",
    "class2num = {c: i for i, c in enumerate(classes)}\n",
    "num2class = {i: c for i, c in enumerate(classes)}\n",
    "n_classes = len(classes)"
   ]
  },
  {
   "cell_type": "code",
   "execution_count": 11,
   "metadata": {},
   "outputs": [],
   "source": [
    "llm = VertexAI(\n",
    "    model=MODEL_TO_USE,\n",
    "    temperature=0.05,\n",
    "    top_p=0.95,\n",
    "    top_k=40,\n",
    "    max_tokens=2**13,\n",
    "    max_retries=1,\n",
    "    stop=None,\n",
    ")"
   ]
  },
  {
   "cell_type": "code",
   "execution_count": 12,
   "metadata": {},
   "outputs": [],
   "source": [
    "minimal_test_set = pd.read_csv('input/minimal-test-set.csv')\n",
    "raw_classes = minimal_test_set[['Transparency', 'Privacy', 'Bias']].values\n",
    "\n",
    "test_inputs = minimal_test_set['Input'].values\n",
    "test_labels = np.vectorize(class2num.get)(raw_classes)"
   ]
  },
  {
   "cell_type": "code",
   "execution_count": 22,
   "metadata": {},
   "outputs": [
    {
     "data": {
      "text/plain": [
       "Index(['Input', 'Transparency', 'Privacy', 'Bias'], dtype='object')"
      ]
     },
     "execution_count": 22,
     "metadata": {},
     "output_type": "execute_result"
    }
   ],
   "source": [
    "minimal_test_set.columns"
   ]
  },
  {
   "cell_type": "code",
   "execution_count": 13,
   "metadata": {},
   "outputs": [],
   "source": [
    "aspects = {\n",
    "    \"Fairness and Bias\" : \\\n",
    "        \"Fairness and Bias: How customers think about the fairness of offers they receive and whether they think there are unjust biases in the targetting of offers.\",\n",
    "    \"Transparency and Explainability\" : \\\n",
    "        \"Transparency and Explainability: How customers perceive the process of being targeting, boosting and re deeming offers for whether the entire personalisation process is clear and easily understandable.\",\n",
    "    \"Data Privacy and Security\" : \\\n",
    "        \"Data Privacy and Security: How customers think about the handling of their personal data with the program as well as data breach and fraud concerns.\"\n",
    "}"
   ]
  },
  {
   "cell_type": "code",
   "execution_count": 14,
   "metadata": {},
   "outputs": [],
   "source": [
    "# ASPECTS = \"\"\"\\\n",
    "# * Fairness and Bias: How customers think about the fairness of offers they receive and whether they think there are unjust biases in the targetting of offers.\n",
    "# * Transparency and Explainability: How customers perceive the process of being targeting, boosting and re deeming offers for whether the entire personalisation process is clear and easily understandable.\n",
    "# * Data Privacy and Security: How customers think about the handling of their personal data with the program as well as data breach and fraud concerns.\n",
    "# \"\"\"\n",
    "\n",
    "COMMENT = test_inputs[0]"
   ]
  },
  {
   "cell_type": "code",
   "execution_count": 15,
   "metadata": {},
   "outputs": [],
   "source": [
    "output_fix_tmpl = PromptTemplate(\n",
    "    input_variables=['completion', 'error', 'instructions'], \n",
    "    template=(\n",
    "        'Instructions:\\n--------------\\n{instructions}\\n--------------\\n'\n",
    "        'Completion:\\n--------------\\n{completion}\\n--------------\\n'\n",
    "        '\\nAbove, the Completion did not satisfy the constraints given in the Instructions.'\n",
    "        '\\nError:\\n--------------\\n{error}\\n--------------\\n\\n'\n",
    "        'Please try again. Please only respond with an answer that satisfies the constraints laid out in the Instructions:'\n",
    "        )\n",
    ")\n",
    "outputfix_chain = output_fix_tmpl | llm"
   ]
  },
  {
   "cell_type": "code",
   "execution_count": 16,
   "metadata": {},
   "outputs": [],
   "source": [
    "prompt_template_str = PREAMBLE + INSTRUCTION\n",
    "prompt_template = PromptTemplate.from_template(\n",
    "    prompt_template_str,\n",
    ")\n",
    "parser = PydanticOutputParser(pydantic_object=SentimentExtraction)"
   ]
  },
  {
   "cell_type": "code",
   "execution_count": null,
   "metadata": {},
   "outputs": [],
   "source": [
    "# chain = prompt_template | llm # | parser\n",
    "# result = chain.invoke({'aspect': aspect_value, 'customer_comment': comment})"
   ]
  },
  {
   "cell_type": "code",
   "execution_count": null,
   "metadata": {},
   "outputs": [],
   "source": [
    "# try:\n",
    "#     result = parser.parse(result)\n",
    "# except Exception as err_msg:\n",
    "#     outputfix_result = outputfix_chain.invoke(\n",
    "#         {\n",
    "#             'instructions': parser.get_format_instructions(),\n",
    "#             'completion': result,\n",
    "#             'error' : err_msg\n",
    "#         }\n",
    "#     )\n",
    "#     result = parser.parse(outputfix_result)"
   ]
  },
  {
   "cell_type": "code",
   "execution_count": 17,
   "metadata": {},
   "outputs": [],
   "source": [
    "def chain_w_outputfix_parser(input:dict, prompt_tmpl:PromptTemplate, parser, llm, output_fix_tmpl:PromptTemplate):\n",
    "\n",
    "    outputfix_chain = output_fix_tmpl | llm\n",
    "    chain = prompt_tmpl | llm \n",
    "    result = chain.invoke(input)\n",
    "    try: # try without outputfix parser\n",
    "        result = parser.parse(result)\n",
    "    except Exception as err_msg: # using outputfix parser\n",
    "        outputfix_result = outputfix_chain.invoke(\n",
    "            {\n",
    "                'instructions': parser.get_format_instructions(),\n",
    "                'completion': result,\n",
    "                'error' : err_msg\n",
    "            }\n",
    "        )\n",
    "        result = parser.parse(outputfix_result)\n",
    "    return result"
   ]
  },
  {
   "cell_type": "code",
   "execution_count": 18,
   "metadata": {},
   "outputs": [
    {
     "name": "stdout",
     "output_type": "stream",
     "text": [
      "ASPECT ====> Fairness and Bias\n"
     ]
    },
    {
     "name": "stderr",
     "output_type": "stream",
     "text": [
      "100%|██████████| 10/10 [00:05<00:00,  1.78it/s]\n"
     ]
    },
    {
     "name": "stdout",
     "output_type": "stream",
     "text": [
      "ASPECT ====> Transparency and Explainability\n"
     ]
    },
    {
     "name": "stderr",
     "output_type": "stream",
     "text": [
      "100%|██████████| 10/10 [00:06<00:00,  1.65it/s]\n"
     ]
    },
    {
     "name": "stdout",
     "output_type": "stream",
     "text": [
      "ASPECT ====> Data Privacy and Security\n"
     ]
    },
    {
     "name": "stderr",
     "output_type": "stream",
     "text": [
      "100%|██████████| 10/10 [00:07<00:00,  1.35it/s]\n"
     ]
    }
   ],
   "source": [
    "results = {}\n",
    "for aspect_key, aspect_value in aspects.items():\n",
    "    print(f'ASPECT: {aspect_key}')\n",
    "    aspect_sentiments = []\n",
    "    for comment in tqdm(test_inputs):\n",
    "        # result = chain.invoke({'aspect': aspect_value, 'customer_comment': comment})\n",
    "        result = chain_w_outputfix_parser({'aspect': aspect_value, 'customer_comment': comment}, prompt_template, parser, llm, output_fix_tmpl)\n",
    "        result_dict = {}\n",
    "        result_dict['reason'] = result.reason\n",
    "        result_dict['sentiment'] = result.sentiment.name\n",
    "        aspect_sentiments.append(result_dict)\n",
    "    results[aspect_key] = aspect_sentiments"
   ]
  },
  {
   "cell_type": "code",
   "execution_count": 31,
   "metadata": {},
   "outputs": [
    {
     "data": {
      "text/plain": [
       "array([[0, 1, 1],\n",
       "       [2, 1, 1],\n",
       "       [1, 1, 2],\n",
       "       [1, 1, 2],\n",
       "       [1, 2, 1],\n",
       "       [2, 2, 1],\n",
       "       [0, 1, 1],\n",
       "       [1, 1, 2],\n",
       "       [1, 2, 1],\n",
       "       [1, 1, 1]])"
      ]
     },
     "execution_count": 31,
     "metadata": {},
     "output_type": "execute_result"
    }
   ],
   "source": [
    "test_labels"
   ]
  },
  {
   "cell_type": "code",
   "execution_count": 30,
   "metadata": {},
   "outputs": [],
   "source": [
    "aspects_order = ['Transparency and Explainability', 'Data Privacy and Security', 'Fairness and Bias']\n",
    "out_labels = []\n",
    "for aspect in aspects_order:\n",
    "    sentiments = [i['sentiment'] for i in results[aspect]]\n",
    "    out_labels.append([class2num[s] for s in sentiments])"
   ]
  },
  {
   "cell_type": "code",
   "execution_count": 32,
   "metadata": {},
   "outputs": [],
   "source": [
    "pred_labels = np.array(out_labels).T"
   ]
  },
  {
   "cell_type": "code",
   "execution_count": 35,
   "metadata": {},
   "outputs": [],
   "source": [
    "matches = evaluate_sentiments(test_labels, pred_labels)"
   ]
  },
  {
   "cell_type": "code",
   "execution_count": 41,
   "metadata": {},
   "outputs": [],
   "source": [
    "accuracy = matches.sum() / matches.size"
   ]
  },
  {
   "cell_type": "code",
   "execution_count": null,
   "metadata": {},
   "outputs": [],
   "source": []
  }
 ],
 "metadata": {
  "kernelspec": {
   "display_name": "genai-rd-w360-lease",
   "language": "python",
   "name": "python3"
  },
  "language_info": {
   "codemirror_mode": {
    "name": "ipython",
    "version": 3
   },
   "file_extension": ".py",
   "mimetype": "text/x-python",
   "name": "python",
   "nbconvert_exporter": "python",
   "pygments_lexer": "ipython3",
   "version": "3.12.5"
  }
 },
 "nbformat": 4,
 "nbformat_minor": 2
}
