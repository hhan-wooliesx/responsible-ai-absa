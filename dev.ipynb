{
 "cells": [
  {
   "cell_type": "code",
   "execution_count": 35,
   "metadata": {},
   "outputs": [],
   "source": [
    "import os, sys\n",
    "import pandas as pd\n",
    "import numpy as np\n",
    "import json\n",
    "from typing import Tuple, List, Union, Optional\n",
    "from enum import Enum, IntEnum\n",
    "\n",
    "from langchain_google_vertexai import VertexAI\n",
    "from langchain_core.pydantic_v1 import BaseModel, Field\n",
    "from langchain.output_parsers import PydanticOutputParser\n",
    "from langchain.prompts import PromptTemplate"
   ]
  },
  {
   "cell_type": "code",
   "execution_count": 49,
   "metadata": {},
   "outputs": [],
   "source": [
    "def evaluate_sentiments(trues, preds):\n",
    "\n",
    "    if len(preds.shape) == 3: \n",
    "        preds_argmax = preds.argmax(axis=-1)\n",
    "    elif len(preds.shape) == 2:\n",
    "        preds_argmax = preds\n",
    "    else:\n",
    "        raise Exception('The shape of `preds` needs to be either 2 dimensions or 3 dimensions.')\n",
    "    matches = trues == preds_argmax\n",
    "    return matches\n",
    "\n",
    "class SentimentEnum(str, Enum):\n",
    "    positive = 'positive'\n",
    "    neutral = 'neutral'\n",
    "    negative = 'negative'\n",
    "\n",
    "class SentimentExtraction(BaseModel):\n",
    "    reason: str = Field(\n",
    "        description=\"A string field for step by step reasoning before arriving at the final answer\"\n",
    "    )\n",
    "    sentiment: SentimentEnum = Field(\n",
    "        description=\"An enumerated field for sentiment\"\n",
    "    )"
   ]
  },
  {
   "cell_type": "code",
   "execution_count": 61,
   "metadata": {},
   "outputs": [],
   "source": [
    "MODEL_TO_USE = 'gemini-1.5-flash-001'\n",
    "\n",
    "PREAMBLE = (\n",
    "    \"Woolworths is one of the largest supermarket chains in Australia and New Zealand. \"\n",
    "    \"Woolworths primarily sells common household grocery-related products ranging from fruit, vegetables, meat, dairy products, condiments, pet food and more.\\n\" \n",
    "    \"Woolworths has a loyalty (or rewards) program that gives its members extra benefits including targeted personalised offers. \"\n",
    "    \"Customers need to sign up to join the program, at which point they'll be given a rewards card. \"\n",
    "    \"In order to enjoy more benefits from this program, members need to continue to scan their rewards / loyalty cards when making purchases. \"\n",
    "    \"Typical scan of rewards card would register transaction details such as the item purchased, purchase date time and purchase price against their unique personal identifier. \"\n",
    "    \"Customer would also get 1 reward point for each dollar they spend in the transactions that are scanned. \"\n",
    "    \"The main value proposition comes in the form of points where every 2000 points is equivalent to $10 off the customer's next shop. \"\n",
    "    \"From time to time, members can also enjoy other benefits such as more points for redeeming targeted offers on a certain range of products and free samples of products.\"\n",
    ")\n",
    "\n",
    "INSTRUCTION = \"\"\"\\\n",
    "You have expertise in the domain of Responsible AI and how best practices should be adopted in large businesses. \\\n",
    "Below is Responsible AI-related aspects or area that Woolworths can look into to address for its loyalty program with respect to the customer comments. \\\n",
    "\n",
    "### Aspect\n",
    "{aspect}\n",
    "\n",
    "Now for the customer comment below, please give the polarity of the customer's sentiment as either positive, negative or neutral against each of the aspects above \\\n",
    "Neutral can either mean the customer's comment on the aspect is neither positive nor negative or the customer's comment does not mention anything about the aspect. \\\n",
    "Think step-by-step through the reasoning before arriving at an answer. You must output in JSON format like the example below: \n",
    "{{\n",
    "    \"reason\": \"The customer does not mention anything about it.\"\n",
    "    \"sentiment\": \"neutral\"\n",
    "}}\n",
    "\n",
    "\n",
    "### Customer Comment\n",
    "{customer_comment}\n",
    "\"\"\""
   ]
  },
  {
   "cell_type": "code",
   "execution_count": 60,
   "metadata": {},
   "outputs": [],
   "source": [
    "llm = VertexAI(\n",
    "    model=MODEL_TO_USE,\n",
    "    temperature=0.05,\n",
    "    top_p=0.95,\n",
    "    top_k=40,\n",
    "    max_tokens=2**13,\n",
    "    max_retries=1,\n",
    "    stop=None,\n",
    ")"
   ]
  },
  {
   "cell_type": "code",
   "execution_count": 52,
   "metadata": {},
   "outputs": [],
   "source": [
    "classes = ['positive', 'neutral', 'negative']\n",
    "classes_map = {c: i for i, c in enumerate(classes)}\n",
    "n_classes = len(classes)"
   ]
  },
  {
   "cell_type": "code",
   "execution_count": 53,
   "metadata": {},
   "outputs": [],
   "source": [
    "aspects = [\n",
    "    \"Fairness and Bias: How customers think about the fairness of offers they receive and whether they think there are unjust biases in the targetting of offers.\",\n",
    "    \"Transparency and Explainability: How customers perceive the process of being targeting, boosting and re deeming offers for whether the entire personalisation process is clear and easily understandable.\",\n",
    "    \"Data Privacy and Security: How customers think about the handling of their personal data with the program as well as data breach and fraud concerns.\"\n",
    "]"
   ]
  },
  {
   "cell_type": "code",
   "execution_count": 56,
   "metadata": {},
   "outputs": [],
   "source": [
    "# ASPECTS = \"\"\"\\\n",
    "# * Fairness and Bias: How customers think about the fairness of offers they receive and whether they think there are unjust biases in the targetting of offers.\n",
    "# * Transparency and Explainability: How customers perceive the process of being targeting, boosting and re deeming offers for whether the entire personalisation process is clear and easily understandable.\n",
    "# * Data Privacy and Security: How customers think about the handling of their personal data with the program as well as data breach and fraud concerns.\n",
    "# \"\"\"\n",
    "\n",
    "COMMENT = test_inputs[0]"
   ]
  },
  {
   "cell_type": "code",
   "execution_count": 62,
   "metadata": {},
   "outputs": [],
   "source": [
    "prompt_template = PREAMBLE + INSTRUCTION\n",
    "parser = PydanticOutputParser(pydantic_object=SentimentExtraction)\n",
    "prompt = PromptTemplate.from_template(\n",
    "    prompt_template,\n",
    ")\n",
    "\n",
    "chain = prompt | llm | parser"
   ]
  },
  {
   "cell_type": "code",
   "execution_count": 66,
   "metadata": {},
   "outputs": [],
   "source": [
    "results = []\n",
    "for aspect in aspects:\n",
    "    for comment in test_inputs:\n",
    "        result = chain.invoke({'aspect': aspect, 'customer_comment': comment})\n",
    "        results.append(result)\n",
    "    break"
   ]
  },
  {
   "cell_type": "code",
   "execution_count": 67,
   "metadata": {},
   "outputs": [
    {
     "data": {
      "text/plain": [
       "[SentimentExtraction(reason=\"The customer comment focuses on the program's simplicity and personalized marketing, without mentioning fairness or bias in offer targeting.\", sentiment=<SentimentEnum.neutral: 'neutral'>),\n",
       " SentimentExtraction(reason=\"The customer is expressing frustration about not being able to benefit from the 'boost' feature due to forgetting to activate it before shopping. This suggests they feel the system is unfair in its requirement for timely activation, potentially leading to missed rewards.\", sentiment=<SentimentEnum.negative: 'negative'>),\n",
       " SentimentExtraction(reason='The customer is complaining about the change in rewards structure, specifically the lack of bulk rewards for ordinary members. This suggests they feel the new system is unfair, as it benefits individual items rather than overall spending.', sentiment=<SentimentEnum.negative: 'negative'>),\n",
       " SentimentExtraction(reason='The customer explicitly states that they feel the program is unfair because it is geared towards families and not single people. They also mention that it takes them a long time to earn enough points for a discount, implying that the program is not fair to them as a single person.', sentiment=<SentimentEnum.negative: 'negative'>),\n",
       " SentimentExtraction(reason=\"The customer's comment focuses on security and privacy breaches, not on the fairness or bias of offers.\", sentiment=<SentimentEnum.neutral: 'neutral'>),\n",
       " SentimentExtraction(reason='The customer expresses concern about the amount of data collected and potential invasion of privacy, which relates to fairness and bias in how offers are targeted. They feel the rewards are not worth the data trade-off.', sentiment=<SentimentEnum.negative: 'negative'>),\n",
       " SentimentExtraction(reason=\"The customer is complaining about the slow accumulation of points and the low value of the reward, implying a lack of fairness in the program's structure.\", sentiment=<SentimentEnum.negative: 'negative'>),\n",
       " SentimentExtraction(reason='The customer explicitly states that they feel the rewards program is unfair, as those who spend more are expected to spend more to get rewards, while those who shop less frequently have to spend less to get rewarded. This suggests a perceived bias in the program.', sentiment=<SentimentEnum.negative: 'negative'>),\n",
       " SentimentExtraction(reason='The customer is concerned about the security of the rewards program, suggesting that the automatic $10 reward system could be vulnerable to scams. This concern is related to fairness and bias as it implies a potential for unfair advantage or exploitation.', sentiment=<SentimentEnum.negative: 'negative'>),\n",
       " SentimentExtraction(reason='The customer is complaining about the need to manually scan the rewards card, suggesting a preference for automatic rewards. This implies a perception of unfairness in the current system, as it requires extra effort from the customer.', sentiment=<SentimentEnum.negative: 'negative'>)]"
      ]
     },
     "execution_count": 67,
     "metadata": {},
     "output_type": "execute_result"
    }
   ],
   "source": [
    "results"
   ]
  },
  {
   "cell_type": "code",
   "execution_count": 26,
   "metadata": {},
   "outputs": [],
   "source": [
    "minimal_test_set = pd.read_csv('input/minimal-test-set.csv')\n",
    "raw_classes = minimal_test_set[['Transparency', 'Privacy', 'Bias']].values\n",
    "\n",
    "test_inputs = minimal_test_set['Input'].values\n",
    "test_labels = np.vectorize(classes_map.get)(raw_classes)"
   ]
  },
  {
   "cell_type": "code",
   "execution_count": null,
   "metadata": {},
   "outputs": [],
   "source": []
  },
  {
   "cell_type": "code",
   "execution_count": 18,
   "metadata": {},
   "outputs": [],
   "source": [
    "trues = np.array([\n",
    "    [0, 1, 2],\n",
    "    [1, 0, 0],\n",
    "    [0, 2, 1],\n",
    "])\n",
    "\n",
    "preds = np.array([\n",
    "    [[0.1, 0.2, 0.7], [0.1, 0.2, 0.7], [0.1, 0.2, 0.7]],\n",
    "    [[0.1, 0.2, 0.7], [0.1, 0.2, 0.7], [0.1, 0.2, 0.7]],\n",
    "    [[0.1, 0.2, 0.7], [0.1, 0.2, 0.7], [0.1, 0.2, 0.7]],\n",
    "])\n",
    "\n",
    "assert trues.max() == n_classes - 1 # TODO: cases where subsets of data doesn't contain all the labels\n",
    "assert preds.shape[-1] == n_classes"
   ]
  },
  {
   "cell_type": "code",
   "execution_count": 14,
   "metadata": {},
   "outputs": [],
   "source": [
    "preds_argmax = preds.argmax(axis=-1)\n",
    "matches = trues == preds_argmax"
   ]
  },
  {
   "cell_type": "code",
   "execution_count": 20,
   "metadata": {},
   "outputs": [],
   "source": []
  },
  {
   "cell_type": "code",
   "execution_count": 21,
   "metadata": {},
   "outputs": [],
   "source": [
    "matches = evaluate_sentiments(trues, preds)"
   ]
  },
  {
   "cell_type": "code",
   "execution_count": 32,
   "metadata": {},
   "outputs": [],
   "source": [
    "accuracy = matches.sum() / matches.size"
   ]
  },
  {
   "cell_type": "code",
   "execution_count": null,
   "metadata": {},
   "outputs": [],
   "source": []
  }
 ],
 "metadata": {
  "kernelspec": {
   "display_name": "genai-rd-w360-lease",
   "language": "python",
   "name": "python3"
  },
  "language_info": {
   "codemirror_mode": {
    "name": "ipython",
    "version": 3
   },
   "file_extension": ".py",
   "mimetype": "text/x-python",
   "name": "python",
   "nbconvert_exporter": "python",
   "pygments_lexer": "ipython3",
   "version": "3.12.5"
  }
 },
 "nbformat": 4,
 "nbformat_minor": 2
}
